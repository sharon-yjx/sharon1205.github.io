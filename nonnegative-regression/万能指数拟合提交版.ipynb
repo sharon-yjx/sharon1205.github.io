{
 "cells": [
  {
   "cell_type": "code",
   "execution_count": 1,
   "id": "a8c0f5a6-f74d-4459-8f9a-3dff5faa56ba",
   "metadata": {},
   "outputs": [
    {
     "name": "stdout",
     "output_type": "stream",
     "text": [
      "C:\\Users\\sharon\\anaconda3\\Lib\\site-packages\\iFinDPy.pth\n"
     ]
    }
   ],
   "source": [
    "import numpy as np\n",
    "import pandas as pd\n",
    "import matplotlib.pyplot as plt\n",
    "import matplotlib.ticker as ticker #调整刻度\n",
    "from sklearn.linear_model import LinearRegression\n",
    "from scipy.optimize import nnls\n",
    "from scipy.stats import zscore #数据标准化\n",
    "from scipy.stats import pearsonr #计算相关系数\n",
    "from sklearn.metrics import r2_score #计算决定系数R^2\n",
    "import iFinDPy\n",
    "from iFinDPy import *\n",
    "from sklearn.preprocessing import StandardScaler\n",
    "# 设置全局字体\n",
    "plt.rcParams['font.family'] = 'Microsoft YaHei'"
   ]
  },
  {
   "cell_type": "code",
   "execution_count": 17,
   "id": "9225b88d-5608-4693-9071-41494d75cc1c",
   "metadata": {},
   "outputs": [],
   "source": [
    "def extract_history_data(stock_package, key_stock, start_day, end_day, account, password):\n",
    "    THS_iFinDLogin(account,password)\n",
    "    data1 = THS_HQ(stock_package,'close','',start_day,end_day)\n",
    "    data2 = THS_HQ(key_stock,'close','',start_day,end_day)\n",
    "    THS_iFinDLogout()\n",
    "    data1 = pd.DataFrame(data1.data)\n",
    "    data1['time'] = pd.to_datetime(data1['time'])\n",
    "    data2 = pd.DataFrame(data2.data)\n",
    "    data2['time'] = pd.to_datetime(data2['time'])\n",
    "    pivot_data1 = data1.pivot_table(index='time', columns='thscode', values='close')\n",
    "    pivot_data2 = data2.pivot_table(index='time', columns='thscode', values='close')\n",
    "    #提取时间\n",
    "    time_period = np.array(pivot_data2.index)\n",
    "    time_period = np.datetime_as_string(time_period, unit='D')\n",
    "    #标准化\n",
    "    scaler = StandardScaler()\n",
    "    standard_data1 = scaler.fit_transform(pivot_data1)\n",
    "    standard_data2 = scaler.fit_transform(pivot_data2)\n",
    "    return standard_data1.round(4), standard_data2.round(4).flatten(), time_period\n",
    "\n",
    "def non_negative_linear_regression(X, y, feature_names, granularity=0):\n",
    "    \n",
    "    # 将回归问题转化为非负约束的优化问题\n",
    "    non_negative_coefficients, _ = nnls(X, y)\n",
    "    \n",
    "    # 归一化系数\n",
    "    sum_coefficients = np.sum(non_negative_coefficients)\n",
    "    vicoefficients = non_negative_coefficients / sum_coefficients\n",
    "\n",
    "    # 计算回归函数的预测值\n",
    "    regression_values = np.dot(X, non_negative_coefficients)\n",
    "\n",
    "    #从高到低排序\n",
    "    sorted_vicoefficients = np.array(sorted(zip(feature_names, vicoefficients), key=lambda x: x[1], reverse=True))\n",
    "    \n",
    "    if granularity:\n",
    "    # 提取系数并应用颗粒度处理\n",
    "        sorted_vicoefficients1 = sorted_vicoefficients[:, 1].astype(float)\n",
    "        sorted_vicoefficients_granular = np.around(sorted_vicoefficients1 / granularity) * granularity \n",
    "\n",
    "        # 计算归一化的颗粒度系数\n",
    "        adjusted_vicoefficients_granular = sorted_vicoefficients_granular / np.sum(sorted_vicoefficients_granular)\n",
    "\n",
    "        # 打印结果\n",
    "        for name, coef in zip(sorted_vicoefficients[:, 0], adjusted_vicoefficients_granular):\n",
    "            if coef != 0:\n",
    "                print(name, ':', \"{:.2f}%\".format(float(coef) * 100))\n",
    "    \n",
    "    else:\n",
    "        # 打印结果\n",
    "        for name, coef in sorted_vicoefficients:\n",
    "            coef = float(coef)  # 将系数转换为float类型\n",
    "            if coef != 0:\n",
    "                print(name, ':', \"{:.2f}%\".format(float(coef) * 100))\n",
    "        \"\"\"\n",
    "        不做颗粒度处理则仅返回按比例投资的预测值数组，按比例投资系数（而非实际回归系数）\n",
    "        \"\"\"\n",
    "        return regression_values, non_negative_coefficients\n",
    "    \n"
   ]
  },
  {
   "cell_type": "code",
   "execution_count": 19,
   "id": "27fd8dbf-663d-4c3c-9c05-0bc7d1c92602",
   "metadata": {},
   "outputs": [
    {
     "name": "stdout",
     "output_type": "stream",
     "text": [
      "深证100 : 56.00%\n",
      "中小100 : 16.00%\n",
      "创成长 : 14.00%\n",
      "创业板50 : 6.00%\n",
      "医药指数 : 5.00%\n",
      "上证50 : 3.00%\n"
     ]
    }
   ],
   "source": [
    "account = 'hfjj***'\n",
    "password = '******'\n",
    "\n",
    "stock_package = '000015.SH,000016.SH,000688.SH,000852.SH,000903.SH,000905.SH,000906.SH,399001.SZ,399005.SZ,399006.SZ,399295.SZ,399296.SZ,399300.SZ,399330.SZ,399673.SZ,399922.SZ,CI005001.CI,CI005002.CI,CI005003.CI,CI005004.CI,CI005005.CI,CI005006.CI,CI005007.CI,CI005008.CI,CI005009.CI,CI005010.CI,CI005011.CI,CI005012.CI,CI005013.CI,CI005014.CI,CI005015.CI,CI005016.CI,CI005017.CI,CI005018.CI,CI005019.CI,CI005020.CI,CI005021.CI,CI005022.CI,CI005023.CI,CI005024.CI,CI005025.CI,CI005026.CI,CI005027.CI,CI005028.CI,CI005029.CI,CI005030.CI'\n",
    "bunch_labels = np.array(['红利指数', '上证50', '科创50', '中证1000', '中证100',\n",
    "                       '中证500', '中证800', '深证成指', '中小100','创业板指', \n",
    "                       '创价值','创成长','沪深300','深证100','创业板50',\n",
    "                        '石油石化指数', '煤炭指数', '有色金属指数', '电力及公用事业指数', '钢铁指数', '基础化工指数',\n",
    "       '建筑指数', '建材指数', '轻工制造指数', '机械指数', '电力设备及新能源指数', '国防军工指数', '汽车指数',\n",
    "       '商贸零售指数', '消费者服务指数', '家电指数', '纺织服装指数', '医药指数', '食品饮料指数', '农林牧渔指数',\n",
    "       '银行指数', '非银行金融指数', '房地产指数', '交通运输指数', '电子指数', '通信指数', '计算机指数', '传媒指数',\n",
    "       '综合指数', '综合金融指数'])\n",
    "\n",
    "key_stock = '399372.SZ' #大盘成长\n",
    "#399373.SZ 大盘价值组\n",
    "start_day = '2022-07-01'\n",
    "end_day = '2022-12-31'\n",
    "\n",
    "bunch, stock1, time_period = extract_history_data(stock_package, key_stock, start_day, end_day, account, password)\n",
    "regression_values1 = non_negative_linear_regression(bunch, stock1, bunch_labels,0.01)"
   ]
  },
  {
   "cell_type": "code",
   "execution_count": 20,
   "id": "f5821f22-f1eb-44b3-abf8-d810f59a334a",
   "metadata": {},
   "outputs": [
    {
     "name": "stdout",
     "output_type": "stream",
     "text": [
      "深证100 : 55.00%\n",
      "中小100 : 15.00%\n",
      "创成长 : 15.00%\n",
      "创业板50 : 5.00%\n",
      "医药指数 : 5.00%\n",
      "上证50 : 5.00%\n"
     ]
    }
   ],
   "source": [
    "bunch, stock1, time_period = extract_history_data(stock_package, key_stock, start_day, end_day, account, password)\n",
    "regression_values1 = non_negative_linear_regression(bunch, stock1, bunch_labels,0.05)"
   ]
  },
  {
   "cell_type": "code",
   "execution_count": null,
   "id": "1135dd3e-37cc-4f9c-b6f6-51d7fc691050",
   "metadata": {},
   "outputs": [],
   "source": []
  }
 ],
 "metadata": {
  "kernelspec": {
   "display_name": "Python 3 (ipykernel)",
   "language": "python",
   "name": "python3"
  },
  "language_info": {
   "codemirror_mode": {
    "name": "ipython",
    "version": 3
   },
   "file_extension": ".py",
   "mimetype": "text/x-python",
   "name": "python",
   "nbconvert_exporter": "python",
   "pygments_lexer": "ipython3",
   "version": "3.9.7"
  }
 },
 "nbformat": 4,
 "nbformat_minor": 5
}
